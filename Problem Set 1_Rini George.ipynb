{
 "cells": [
  {
   "cell_type": "markdown",
   "id": "79450714",
   "metadata": {},
   "source": [
    "Question 1: \n",
    "\n",
    "What data type is each of the following (evaluate where necessary)?"
   ]
  },
  {
   "cell_type": "code",
   "execution_count": 119,
   "id": "387b26ce",
   "metadata": {},
   "outputs": [
    {
     "name": "stdout",
     "output_type": "stream",
     "text": [
      "5 is of Datatype <class 'int'>\n",
      "5.0 is of Datatype <class 'float'>\n",
      "True (5 > 1), is of Datatype <class 'bool'>\n",
      "5 is of Datatype <class 'str'>\n",
      "10 is of Datatype <class 'int'>\n",
      "55 is of Datatype <class 'str'>\n",
      "52 is of Datatype <class 'str'>\n",
      "2.5 is of Datatype <class 'float'>\n",
      "1 is of Datatype <class 'int'>\n",
      "{5, 2, 1} is of Datatype <class 'set'>\n",
      "False (5 == 3),is of Datatype <class 'bool'>\n",
      "Pi (the number) is of Datatype <class 'float'>\n"
     ]
    }
   ],
   "source": [
    "print( '5 is of Datatype',type(5))\n",
    "print( '5.0 is of Datatype',type(5.0))\n",
    "print( 5 > 1,'(5 > 1), is of Datatype',type(5 > 1))\n",
    "print( '5 is of Datatype',type('5'))\n",
    "print( 5 * 2,'is of Datatype', type (5 * 2))\n",
    "print( '5' * 2,'is of Datatype',type ('5' * 2))\n",
    "print( '5' + '2','is of Datatype',type ('5' + '2'))\n",
    "print( 5 / 2,'is of Datatype',type (5 / 2))\n",
    "print( 5 % 2,'is of Datatype',type (5 % 2))\n",
    "print( '{5, 2, 1}','is of Datatype',type({5, 2, 1}))\n",
    "print( 5 == 3,'(5 == 3),is of Datatype',type(5 == 3))\n",
    "print( 'Pi (the number)','is of Datatype',type(3.1415916535897743))"
   ]
  },
  {
   "cell_type": "markdown",
   "id": "8269ba9d",
   "metadata": {},
   "source": [
    "Question 2: \n",
    "\n",
    "Write (and evaluate) python expressions that answer these questions:\n",
    "a. How many letters are there in 'Supercalifragilisticexpialidocious'?\n",
    "b. Does 'Supercalifragilisticexpialidocious' contain 'ice' as a substring?\n",
    "c.Which of the following words is the longest:Supercalifragilisticexpialidocious, Honorificabilitudinitatibus, or    Bababadalgharaghtakamminarronnkonn? \n",
    "d. Which composer comes first in the dictionary: 'Berlioz', 'Borodin', 'Brian', 'Bartok', 'Bellini', 'Buxtehude', 'Bernstein'. Which one comes last?"
   ]
  },
  {
   "cell_type": "code",
   "execution_count": 120,
   "id": "fe49e91b",
   "metadata": {
    "scrolled": true
   },
   "outputs": [
    {
     "name": "stdout",
     "output_type": "stream",
     "text": [
      "a. How many letters are there in 'Supercalifragilisticexpialidocious'?\n",
      "34\n",
      "\n",
      "b. Does 'Supercalifragilisticexpialidocious' contain 'ice' as a substring?\n",
      "Yes,ice is a substring of Supercalifragilisticexpialidocious\n",
      "\n",
      "c. Which of the following words is the longest:Supercalifragilisticexpialidocious, Honorificabilitudinitatibus, or Bababadalgharaghtakamminarronnkonn? \n",
      "List of words: ['Supercalifragilisticexpialidocious', 'Honorificabilitudinitatibus', 'Bababadalgharaghtakamminarronnkonn']\n",
      "Longest words: [(34, 'Supercalifragilisticexpialidocious'), (34, 'Bababadalgharaghtakamminarronnkonn')]\n",
      "\n",
      "d. Which composer comes first in the dictionary:'Berlioz','Borodin','Brian','Bartok','Bellini','Buxtehude','Bernstein'.Which one comes last?\n",
      "Sorted List: ['Bartok', 'Bellini', 'Berlioz', 'Bernstein', 'Borodin', 'Brian', 'Buxtehude']\n",
      "First word in Dictornary: Bartok\n",
      "Last word in Dictornary: Buxtehude\n"
     ]
    }
   ],
   "source": [
    "#a. How many letters are there in 'Supercalifragilisticexpialidocious'?\n",
    "print(\"a. How many letters are there in 'Supercalifragilisticexpialidocious'?\")\n",
    "print(len('Supercalifragilisticexpialidocious'))\n",
    "\n",
    "#b. Does 'Supercalifragilisticexpialidocious' contain 'ice' as a substring? \n",
    "print(\"\\nb. Does 'Supercalifragilisticexpialidocious' contain 'ice' as a substring?\")\n",
    "word =  'ice' in 'Supercalifragilisticexpialidocious'\n",
    "if word == True:\n",
    "    print(\"Yes,ice is a substring of Supercalifragilisticexpialidocious\")\n",
    "else:\n",
    "    print(\"No,ice is not a substring of Supercalifragilisticexpialidocious\")\n",
    "\n",
    "#c. Which of the following words is the longest:Supercalifragilisticexpialidocious,Honorificabilitudinitatibus,orBababadalgharaghtakamminarronnkonn? \n",
    "print(\"\\nc. Which of the following words is the longest:Supercalifragilisticexpialidocious, Honorificabilitudinitatibus, or Bababadalgharaghtakamminarronnkonn? \")\n",
    "List_words=['Supercalifragilisticexpialidocious','Honorificabilitudinitatibus','Bababadalgharaghtakamminarronnkonn']\n",
    "print(\"List of words:\",List_words)\n",
    "Longest_word = []\n",
    "Length=0\n",
    "for i in range(0,len(List_words)):    \n",
    "    if(len(List_words[i])>=Length):\n",
    "        Longest_word.append ((len(List_words[i]), List_words[i]))\n",
    "        Length = len(List_words[i])\n",
    "        \n",
    "print(\"Longest words:\",Longest_word)\n",
    "        \n",
    "#d. Which composer comes first in the dictionary:'Berlioz','Borodin','Brian','Bartok','Bellini','Buxtehude','Bernstein'.Which one comes last?\n",
    "print(\"\\nd. Which composer comes first in the dictionary:'Berlioz','Borodin','Brian','Bartok','Bellini','Buxtehude','Bernstein'.Which one comes last?\")\n",
    "Dictionary = ['Berlioz', 'Borodin', 'Brian', 'Bartok', 'Bellini', 'Buxtehude', 'Bernstein']\n",
    "Dictionary.sort()\n",
    "print(\"Sorted List:\",Dictionary)\n",
    "print(\"First word in Dictornary:\", Dictionary[0]) \n",
    "print(\"Last word in Dictornary:\", Dictionary[len(Dictionary)-1])"
   ]
  },
  {
   "cell_type": "markdown",
   "id": "bdf4706f",
   "metadata": {},
   "source": [
    "Question 3:\n",
    "\n",
    "Implement function triangleArea(a,b,c) that takes as input the lengths of the 3\n",
    "sides of a triangle and returns the area of the triangle. By Heron's formula, the area \n",
    "of a triangle with side lengths a, b, and c is\n",
    "s(s - a)(s -b)(s -c)\n",
    ", where s = (a+b+c)/2."
   ]
  },
  {
   "cell_type": "code",
   "execution_count": 121,
   "id": "8f2a6f90",
   "metadata": {},
   "outputs": [
    {
     "name": "stdout",
     "output_type": "stream",
     "text": [
      "Enter value of a:2\n",
      "Enter value of b:3\n",
      "Enter value of c:4\n",
      "\n",
      "Value of S is: 4.5\n",
      "\n",
      "The area of triangle= 2.9047375096555625\n"
     ]
    }
   ],
   "source": [
    "import math\n",
    "def triangleArea(a,b,c):  \n",
    "    float (s)\n",
    "a = float(input(\"Enter value of a:\"))\n",
    "b = float(input(\"Enter value of b:\"))\n",
    "c = float(input(\"Enter value of c:\"))\n",
    "\n",
    "# Calculating the semi-perimeter (s) of the triangle\n",
    "s = (a + b + c) / 2\n",
    "print(\"\\nValue of S is:\",(s))\n",
    "      \n",
    "#Calculating the area of triangle\n",
    "triangleArea = math.sqrt(s * (s - a)*(s - b)*(s - c))\n",
    "print(\"\\nThe area of triangle=\" , triangleArea)"
   ]
  },
  {
   "cell_type": "markdown",
   "id": "1190a6e4",
   "metadata": {},
   "source": [
    "Question 4: \n",
    "    \n",
    "Write a program in python to separate odd and even integers in separate arrays."
   ]
  },
  {
   "cell_type": "code",
   "execution_count": 122,
   "id": "2ec07ad4",
   "metadata": {},
   "outputs": [
    {
     "name": "stdout",
     "output_type": "stream",
     "text": [
      "Enter number of Integers required:4\n",
      "\n",
      "Enter the Integers: 1\n",
      "\n",
      "Enter the Integers: 8\n",
      "\n",
      "Enter the Integers: 3\n",
      "\n",
      "Enter the Integers: 2\n",
      "\n",
      "Even Integers: [8, 2]\n",
      "\n",
      "Odd Integers: [1, 3]\n"
     ]
    }
   ],
   "source": [
    "oddnumbers = []\n",
    "evennumbers = []\n",
    "\n",
    "#Enter the number of integers to be verified\n",
    "Numbers = int(input(\"Enter number of Integers required:\" ))\n",
    "for i in range(0,Numbers):\n",
    "    #Enter the Integers\n",
    "    j = int(input(\"\\nEnter the Integers: \"))\n",
    "    if (j % 2) == 0:\n",
    "        evennumbers.append(j)\n",
    "    else:\n",
    "        oddnumbers.append(j)\n",
    "        \n",
    "#Printing the Even Integers\n",
    "print(\"\\nEven Integers:\", evennumbers)\n",
    "#Printing the Odd Integers\n",
    "print(\"\\nOdd Integers:\", oddnumbers)"
   ]
  },
  {
   "cell_type": "markdown",
   "id": "69070052",
   "metadata": {},
   "source": [
    "Question 5:\n",
    "    \n",
    "a. Write a function inside(x,y,x1,y1,x2,y2) that returns True or False depending on whether the point (x,y) lies in the rectangle with lower left corner (x1,y1) and upper right corner (x2,y2).\n",
    "b. Use function inside() from part a. to write an expression that tests whether the point (1,1) lies in both of the following rectangles: one with lower left corner (0.3, 0.5) and upper right corner (1.1, 0.7) and the other with lower left corner (0.5, 0.2) and upper right corner (1.1, 2)."
   ]
  },
  {
   "cell_type": "code",
   "execution_count": 46,
   "id": "0dbb458d",
   "metadata": {},
   "outputs": [
    {
     "name": "stdout",
     "output_type": "stream",
     "text": [
      "Enter the value of x:2\n",
      "Enter the value of y:2\n",
      "Enter the value of x1:1\n",
      "Enter the value of y1:1\n",
      "Enter the value of x2:4\n",
      "Enter the value of y2:4\n",
      "\n",
      "Yes, the point lies in between both the lower left corner and upper right corner.\n",
      "\n",
      "No, the point does not lies in between both the lower left corner and upper right corner.\n",
      "\n",
      "Yes, the point lies in between both the lower left corner and upper right corner.\n"
     ]
    }
   ],
   "source": [
    "#Enable user to enter\n",
    "x = float(input('Enter the value of x:'))\n",
    "y = float(input('Enter the value of y:'))\n",
    "x1 = float(input('Enter the value of x1:'))\n",
    "y1 = float(input('Enter the value of y1:'))\n",
    "x2 = float(input('Enter the value of x2:'))\n",
    "y2 = float(input('Enter the value of y2:'))\n",
    "\n",
    "#Function that returns True or False depending on whether the point (x,y) lies in the rectangle with lower left corner and upper right corner\n",
    "def inside(x,y,x1,y1,x2,y2):\n",
    "    if x >= x1 and x <= x2 and y >= y1 and y <=y2 :\n",
    "        return True\n",
    "    else:\n",
    "        return False\n",
    "    \n",
    "if inside(x,y,x1,y1,x2,y2) == True:\n",
    "    print(\"\\nYes, the point lies in between both the lower left corner and upper right corner.\")\n",
    "else:\n",
    "    print(\"\\nNo, the point does not lies in between both the lower left corner and upper right corner.\")\n",
    "    \n",
    "if inside(1,1,0.3,0.5,1.1,0.7) == True:\n",
    "    print(\"\\nYes, the point lies in between both the lower left corner and upper right corner.\")\n",
    "else:\n",
    "    print(\"\\nNo, the point does not lies in between both the lower left corner and upper right corner.\")\n",
    "    \n",
    "if inside(1,1,0.5,0.2,1.1,2) == True:\n",
    "    print(\"\\nYes, the point lies in between both the lower left corner and upper right corner.\")\n",
    "else:\n",
    "    print(\"\\nNo, the point does not lies in between both the lower left corner and upper right corner.\")"
   ]
  },
  {
   "cell_type": "markdown",
   "id": "9e162acf",
   "metadata": {},
   "source": [
    "Question 6:\n",
    "\n",
    "You can turn a word into pig-Latin using the following two rules (simplified):\n",
    "• If the word starts with a consonant, move that letter to the end and append \n",
    "'ay'. For example, 'happy' becomes 'appyhay' and 'pencil' becomes 'encilpay'.\n",
    "• If the word starts with a vowel, simply append 'way' to the end of the word. \n",
    "For example, 'enter' becomes 'enterway' and 'other' becomes 'otherway' . \n",
    "For our purposes, there are 5 vowels: a, e, i, o, u (so we count y as a consonant).\n",
    "Write a function pig() that takes a word (i.e., a string) as input and returns its pig\u0002Latin form. Your function should still work if the input word contains upper case characters. Your output should always be lower case however."
   ]
  },
  {
   "cell_type": "code",
   "execution_count": 80,
   "id": "26c46a4b",
   "metadata": {},
   "outputs": [
    {
     "name": "stdout",
     "output_type": "stream",
     "text": [
      "Enter a word:angry\n",
      "The new word will be angryway\n"
     ]
    }
   ],
   "source": [
    "def pig(new_word):\n",
    "        word= new_word[0]\n",
    "        if word.lower() in 'aeiou':\n",
    "            new_word = new_word.lower() +\"way\"\n",
    "            return new_word\n",
    "        else:\n",
    "            new_word = new_word[1].lower() + word.lower() + \"ay\"\n",
    "            return new_word\n",
    "        \n",
    "#Enable user to enter word\n",
    "a = input('Enter a word:')\n",
    "print(\"The new word will be\",pig(a))"
   ]
  },
  {
   "cell_type": "markdown",
   "id": "95b9b618",
   "metadata": {},
   "source": [
    "Question 7:\n",
    "\n",
    "File bloodtype1.txt records blood-types of patients (A, B, AB, O or OO) at a clinic. \n",
    "Write a function bldcount() that reads the file with name name and reports (i.e., \n",
    "prints) how many patients there are in each bloodtype"
   ]
  },
  {
   "cell_type": "code",
   "execution_count": 99,
   "id": "2e4f3883",
   "metadata": {
    "scrolled": true
   },
   "outputs": [
    {
     "name": "stdout",
     "output_type": "stream",
     "text": [
      "\n",
      "15 Patients - Blood Type A\n",
      "\n",
      "1 Patients - Blood Type B\n",
      "\n",
      "13 Patients - Blood Type AB\n",
      "\n",
      "15 Patients - Blood Type O\n",
      "\n",
      "0 Patients - Blood Type OO\n"
     ]
    }
   ],
   "source": [
    "def bloodcount(file):\n",
    "    info = open(file,'r')\n",
    "    word= info.readline()\n",
    "    patients = []\n",
    "    bloodtype= ['A','B','AB','O','OO']\n",
    "    patients.append(word.split(\" \"))\n",
    "    for i in bloodtype:\n",
    "        print(\"\\n{} Patients - Blood Type {}\".format(patients[0].count(i), i))\n",
    "\n",
    "bloodcount('bloodtype1.txt')"
   ]
  },
  {
   "cell_type": "markdown",
   "id": "676e4dcc",
   "metadata": {},
   "source": [
    "Question 8:\n",
    "\n",
    "Write a function curconv() that takes as input:\n",
    "1. a currency represented using a string (e.g., 'JPY' for the Japanese Yen or 'EUR' for the Euro)\n",
    "2. an amount and then converts and returns the amount in US dollars."
   ]
  },
  {
   "cell_type": "code",
   "execution_count": 129,
   "id": "ebe620dc",
   "metadata": {
    "scrolled": true
   },
   "outputs": [
    {
     "name": "stdout",
     "output_type": "stream",
     "text": [
      "Enter Currency( user should enter in format'EUR'):JPY\n",
      "\n",
      "Enter the amount to be converted:100\n",
      "\n",
      " 1.241401\n"
     ]
    }
   ],
   "source": [
    "def curconv(cur,amount):\n",
    "    currency = {}\n",
    "  \n",
    "    #Opening file currencies.txt \n",
    "    file = open('currencies.txt')\n",
    "    document = file.readlines()\n",
    "    \n",
    "    #Convertion of currency to US$\n",
    "    for x in document:\n",
    "        currency[x[:3].strip()] = x[4:].split(\"\\t\")\n",
    "    value = currency[cur][0].strip()\n",
    "    print('\\n',amount * float(value))\n",
    "\n",
    "currency = input(\"Enter Currency( user should enter in format'EUR'):\")\n",
    "amount = float(input(\"\\nEnter the amount to be converted:\"))\n",
    "curconv(currency, amount) "
   ]
  },
  {
   "cell_type": "markdown",
   "id": "e29c378a",
   "metadata": {},
   "source": [
    "Question 9:\n",
    "    \n",
    "Each of the following will cause an exception (an error). Identify what type of \n",
    "exception each will cause.\n",
    "\n",
    "Trying to add incompatible variables, as in adding 6 + ‘a’\n",
    "Referring to the 12th item of a list that has only 10 items\n",
    "Using a value that is out of range for a function’s input, such as calling math.sqrt(-1.0)\n",
    "Using an undeclared variable, such as print(x) when x has not been defined \n",
    "Trying to open a file that does not exist, such as mistyping the file name or looking in the wrong directory. \n",
    "\n",
    "Answer: \n",
    "\n",
    "TypeError: unsupported operand type(s) for +: 'int' and 'str'\n",
    "\n",
    "IndexError: list index out of range\n",
    "\n",
    "ValueError: math domain error \n",
    "\n",
    "NameError: name 'x' is not defined \n",
    "\n",
    "FileNotFoundError: [Errno 2] No such file or directory: 'abc.txt'\n"
   ]
  },
  {
   "cell_type": "markdown",
   "id": "8a3f0513",
   "metadata": {},
   "source": [
    "Question 10:\n",
    "\n",
    "Encryption is the process of hiding the meaning of a text by substituting letters in the message with other letters, according to some system. If the process is successful, no one but the intended recipient can understand the encrypted message. Cryptanalysis refers to attempts to undo the encryption, even if some details of the encryption are unknown (for example, if an encrypted message has been intercepted). The first step of cryptanalysis is often to build up a table of letter frequencies in the encrypted text. Assume that the string letters is already defined as 'abcdefghijklmnopqrstuvwxyz'. Write a function called frequencies() that takes a string as its only parameter, and returns a list of integers, showing the number of times each character appears in the text. Your function may ignore any characters that are not in letters"
   ]
  },
  {
   "cell_type": "code",
   "execution_count": 130,
   "id": "5297862f",
   "metadata": {},
   "outputs": [
    {
     "name": "stdout",
     "output_type": "stream",
     "text": [
      "Enter a sentence or a word:false impression\n",
      "[1, 0, 0, 0, 2, 1, 0, 0, 2, 0, 0, 1, 1, 1, 1, 1, 0, 1, 3, 0, 0, 0, 0, 0, 0, 0]\n"
     ]
    }
   ],
   "source": [
    "#function for the convertion\n",
    "def frequencies(a):\n",
    "    letters = 'abcdefghijklmnopqrstuvwxyz'    \n",
    "    alphabets = {'a':0,'b':0,'c':0,'d':0,'e':0,'f':0,'g':0,'h':0,'i':0,'j':0,'k':0,'l':0,'m':0,\n",
    "                 'n':0,'o':0,'p':0,'q':0,'r':0,'s':0,'t':0,'u':0,'v':0,'w':0,'x':0,'y':0,'z':0}\n",
    "    for i in a:\n",
    "        if(i in letters):\n",
    "            alphabets[i] +=1\n",
    "    List = []\n",
    "    for i in alphabets.values():\n",
    "        List.append(i)\n",
    "        \n",
    "    return List\n",
    "\n",
    "#Enable user to enter the input\n",
    "a = input('Enter a sentence or a word:')\n",
    "print(frequencies(a))"
   ]
  }
 ],
 "metadata": {
  "kernelspec": {
   "display_name": "Python 3 (ipykernel)",
   "language": "python",
   "name": "python3"
  },
  "language_info": {
   "codemirror_mode": {
    "name": "ipython",
    "version": 3
   },
   "file_extension": ".py",
   "mimetype": "text/x-python",
   "name": "python",
   "nbconvert_exporter": "python",
   "pygments_lexer": "ipython3",
   "version": "3.9.12"
  }
 },
 "nbformat": 4,
 "nbformat_minor": 5
}
